{
  "cells": [
    {
      "cell_type": "markdown",
      "metadata": {
        "id": "FvLtIC5P3-cF"
      },
      "source": [
        "#Imports"
      ]
    },
    {
      "cell_type": "code",
      "execution_count": null,
      "metadata": {
        "id": "B6podOP83-T_"
      },
      "outputs": [],
      "source": [
        "import random\n",
        "import time\n",
        "import matplotlib.pyplot as plt\n",
        "import numpy as np\n",
        "import requests\n",
        "from collections import defaultdict\n",
        "\n",
        "#Enlace al dataset\n",
        "path= \"https://drive.google.com/file/d/1pI3R0NIbin3k3I0IYRq4NGZnoOJxqPFM/view?usp=drivesdk\""
      ]
    },
    {
      "cell_type": "markdown",
      "source": [
        "#Obtencion del Dataset"
      ],
      "metadata": {
        "id": "oX_rQiHzmAov"
      }
    },
    {
      "cell_type": "code",
      "source": [
        "id=\"1pI3R0NIbin3k3I0IYRq4NGZnoOJxqPFM\"\n",
        "data = requests.get('https://drive.google.com/uc?export=download&confirm=9_s_&id=' + id)\n",
        "data=data.text\n",
        "data=data.split(\"\\n\")\n",
        "data=data[0:-1]"
      ],
      "metadata": {
        "id": "NBCGhab1SP1u"
      },
      "execution_count": null,
      "outputs": []
    },
    {
      "cell_type": "markdown",
      "source": [
        "#Conversión del Dataset"
      ],
      "metadata": {
        "id": "lmjWUsLsalk8"
      }
    },
    {
      "cell_type": "code",
      "source": [
        "def datasetEstandar():\n",
        "  num_paciente=0\n",
        "  dataset=[{}]*100\n",
        "  \n",
        "  for linea in data:\n",
        "      \n",
        "      linea = linea.replace(\":\", \" \")\n",
        "      linea=linea.split()\n",
        "      \n",
        "      pos_actual=0\n",
        "      instant_actual=-1\n",
        "      letter = \"\"\n",
        "      \n",
        "      paciente = defaultdict(list)\n",
        "      for x in linea:\n",
        "        \n",
        "        if x.isalpha():\n",
        "          letter=x\n",
        "        if x.isnumeric():  \n",
        "          if x!=instant_actual:\n",
        "            instant_actual=x\n",
        "            pos_actual+=1\n",
        "          paciente[letter].append(pos_actual)\n",
        "\n",
        "      dataset[num_paciente]=paciente\n",
        "      num_paciente+=1\n",
        "      \n",
        "  return dataset"
      ],
      "metadata": {
        "id": "RFuzpC6paoID"
      },
      "execution_count": null,
      "outputs": []
    },
    {
      "cell_type": "markdown",
      "metadata": {
        "id": "YxL86KcU3-Mg"
      },
      "source": [
        "#Evaluacion de la solucion"
      ]
    },
    {
      "cell_type": "code",
      "execution_count": null,
      "metadata": {
        "id": "5V_L1kIa3-GQ"
      },
      "outputs": [],
      "source": [
        "def evaluarSolucion(solucion, dataset):\n",
        "\n",
        "  frec=0\n",
        "  num_paciente=-1\n",
        "  for paciente in dataset:\n",
        "    pos_solucion=0\n",
        "    tramo=0\n",
        "    num_paciente+=1\n",
        "    old_value=\"\"\n",
        "    while pos_solucion<len(solucion):\n",
        "      \n",
        "      if solucion[pos_solucion] in paciente:\n",
        "        \n",
        "        for x in paciente[solucion[pos_solucion]]:\n",
        "          if old_value==solucion[pos_solucion]:\n",
        "            if x > tramo:\n",
        "              tramo=x\n",
        "              old_value=solucion[pos_solucion]\n",
        "              pos_solucion+=1\n",
        "              break\n",
        "          else:\n",
        "            if x >= tramo:\n",
        "              tramo=x\n",
        "              old_value=solucion[pos_solucion]\n",
        "              pos_solucion+=1\n",
        "              break\n",
        "        else:\n",
        "          break #Loop Ended Normally (\"Not Valid Solution Found\"). This break finish while loop\n",
        "        #Loop Endend with Break (\"Value Found\"). Check Next Position\n",
        "        \n",
        "      else: #Not letter in paciente (Not valid solution)\n",
        "        break\n",
        "    #print(\"Pos_sol Final:\",pos_solucion,\"Len Sol: \",len(solucion))\n",
        "    if pos_solucion==len(solucion):\n",
        "      #print(\"El paciente \",num_paciente, \" cumple el patron\")\n",
        "      frec+=1    \n",
        "  return frec\n",
        "\n",
        "def entropy(sol):\n",
        "  s=set(sol)\n",
        "  \n",
        "  return len(s)"
      ]
    },
    {
      "cell_type": "markdown",
      "source": [
        "#Solucion Inicial"
      ],
      "metadata": {
        "id": "iJAD8Yv_lhTQ"
      }
    },
    {
      "cell_type": "code",
      "source": [
        "def solucion_valida(longitud,dataset):\n",
        "\n",
        "  poblacion = []\n",
        "\n",
        "  paciente = random.randint(0,99)\n",
        "  \n",
        "  solucion=\"\"\n",
        "  linea=\"\"   \n",
        "  for i, line in enumerate(data):\n",
        "    if i == paciente:\n",
        "      linea=line\n",
        "    elif i > paciente:\n",
        "      break\n",
        "  caracteres=\":1234567890\"\n",
        "  for caracter in caracteres:\n",
        "    linea = linea.replace(caracter, \" \")\n",
        "  linea=linea.split()\n",
        "\n",
        "  sol=set()\n",
        "  while(len(sol)<longitud):\n",
        "    sol.add(random.randint(0,len(linea)-1))\n",
        "  sol=list(sol)\n",
        "\n",
        "  sol.sort()\n",
        "  \n",
        "  for x in sol:    \n",
        "    solucion+=linea[x]\n",
        "\n",
        "     \n",
        "  return (solucion,evaluarSolucion(solucion,dataset),entropy(solucion))\n",
        "    \n",
        "\n",
        "def solucion_inicial(longitud, dataset, maxPoblacion):\n",
        "  poblacion=[]\n",
        "  for x in range(10):\n",
        "    poblacion.append(solucion_valida(longitud,dataset))\n",
        " \n",
        "  while len(poblacion)<maxPoblacion:\n",
        "    sol=generador(21,longitud)\n",
        "    poblacion.append((sol,evaluarSolucion(sol,dataset),entropy(sol)))\n",
        "\n",
        "  return poblacion\n",
        "\n",
        "def generador(longitud_solucion,size):\n",
        "    \n",
        "    result=\"\"\n",
        "    letters=\"ABCDEFGHIJKLMNOPQRSTU\"\n",
        "    for i in range(size):\n",
        "\n",
        "      result+=letters[random.randint(0, longitud_solucion-1)]\n",
        "        \n",
        "    return result"
      ],
      "metadata": {
        "id": "GzI7li_RljT0"
      },
      "execution_count": null,
      "outputs": []
    },
    {
      "cell_type": "markdown",
      "metadata": {
        "id": "W6_xM5Cp4XTD"
      },
      "source": [
        "#Aplicación de Operadores Genéticos"
      ]
    },
    {
      "cell_type": "code",
      "execution_count": null,
      "metadata": {
        "id": "WRSqTdbD4Xb9"
      },
      "outputs": [],
      "source": [
        "def aplicarOperadoresGeneticos(poblacion, k, cProb, mProb):\n",
        "\n",
        "    pob=len(poblacion)-10\n",
        "    npob=set()\n",
        "    while len(npob)!=pob:\n",
        "        s = [0,0]\n",
        "\n",
        "        #Seleccionar padres mediante torneo tamaño k\n",
        "        s[0] = torneo(poblacion,k); \n",
        "        s[1] = torneo(poblacion,k);\n",
        "       \n",
        "        #Cruzar padres con probabilidad cProb\n",
        "        if random.randint(1,100) <= cProb*100:\n",
        "            s[0], s[1] = cruce(s[0],s[1])\n",
        "\n",
        "        #Mutar padres con probabilidad mProb\n",
        "        for i in range(0,2):\n",
        "          if random.randint(1,100) <= mProb*100:\n",
        "\n",
        "            s[i] = mutar(s[i])\n",
        "    \n",
        "        #añadir los hijos a la nnueva poblacion\n",
        "        for i in range(0,2):\n",
        "            if len(npob)!= pob:\n",
        "                eval=evaluarSolucion(s[i],dataset)\n",
        "                conjunto=(s[i],eval,entropy(s[i]))\n",
        "                if conjunto not in poblacion :\n",
        "                  npob.add(conjunto)\n",
        "        #print(\"----------------------------------\")\n",
        "\n",
        "    return npob #Devolver la nueva poblacion (sin evaluar)"
      ]
    },
    {
      "cell_type": "markdown",
      "metadata": {
        "id": "HaP1ZbNM39f6"
      },
      "source": [
        "#Cruce y mutación"
      ]
    },
    {
      "cell_type": "code",
      "execution_count": null,
      "metadata": {
        "id": "25WaT-6I39OD"
      },
      "outputs": [],
      "source": [
        "def cruce(p1,p2):\n",
        "  #cruce one-cut\n",
        "\n",
        "    rn = random.randint(1,len(p1)-1)\n",
        "    \n",
        "    p1, p2 = p1[:rn]+p2[rn:], p2[:rn]+p1[rn:]\n",
        "\n",
        "    return p1, p2\n",
        "\n",
        "def mutar(m1):\n",
        "        \n",
        "    rn = random.randint(0,len(m1)-1)\n",
        "    letters=\"ABCDEFGHIJKLMNOPQRSTU\"\n",
        "\n",
        "    m1 = list(m1)\n",
        "    m1[rn]=letters[random.randint(0,len(letters)-1)]\n",
        "    m1 = \"\".join(m1)\n",
        "\n",
        "    return m1"
      ]
    },
    {
      "cell_type": "markdown",
      "metadata": {
        "id": "ijgpVB0K3901"
      },
      "source": [
        "#Torneo"
      ]
    },
    {
      "cell_type": "code",
      "execution_count": null,
      "metadata": {
        "id": "Ty_HnR7A39uX"
      },
      "outputs": [],
      "source": [
        "def torneo(poblacion,k):\n",
        "\n",
        "    index_candidatos = []\n",
        "    candidatos = []\n",
        "    \n",
        "    for i in range(k):\n",
        "\n",
        "        index = random.randint(0,len(poblacion)-1)\n",
        "\n",
        "        candidatos.append(poblacion[index][1])\n",
        "        index_candidatos.append(index)\n",
        "\n",
        "    mejor = max(candidatos)\n",
        "    pos = candidatos.index(mejor)\n",
        "\n",
        "    return poblacion[index_candidatos[pos]][0]"
      ]
    },
    {
      "cell_type": "markdown",
      "source": [
        "Funcion para calcular la media del numero de eventos distintos y la media de las frecuencias"
      ],
      "metadata": {
        "id": "LZHsBcxG0UO4"
      }
    },
    {
      "cell_type": "code",
      "source": [
        "def mediaElementos(poblacion):\n",
        "  mediaEntropy = 0\n",
        "  mediaFrequency = 0\n",
        "  \n",
        "  for individuo in poblacion:\n",
        "    mediaEntropy += individuo[2]\n",
        "    mediaFrequency += individuo[1]\n",
        "\n",
        "  return mediaEntropy / 10, mediaFrequency/10"
      ],
      "metadata": {
        "id": "bGp4ytAe0UAh"
      },
      "execution_count": null,
      "outputs": []
    },
    {
      "cell_type": "markdown",
      "source": [
        "#Main"
      ],
      "metadata": {
        "id": "1oqUcvoPFeGr"
      }
    },
    {
      "cell_type": "code",
      "source": [
        "dataset=datasetEstandar()\n",
        "\n",
        "def proceso(longitudSecuencia):\n",
        "\n",
        "  tini=time.time() #iniciar temporizador\n",
        "  it=0\n",
        "  maxGeneraciones=150\n",
        "  maxSoluciones=50\n",
        "  k=5\n",
        "  cProb=0.5\n",
        "  mProb=0.5\n",
        "\n",
        "  poblacion = solucion_inicial(longitudSecuencia,dataset,maxSoluciones)\n",
        "  poblacion.sort(key=lambda x: [x[1],x[2]],reverse=True)\n",
        "\n",
        "  fitness_per_it=[]\n",
        "  while it < maxGeneraciones:\n",
        "    #Obtenemos los descendientes\n",
        "    npob = aplicarOperadoresGeneticos(poblacion,k,cProb,mProb)\n",
        "    npob = list(npob)\n",
        "    #Cogemos los 10 mejores de la población actual \n",
        "    poblacion=poblacion[0:10]\n",
        "    #Juntamos los descendientes con los 10 mejores de la actual\n",
        "    poblacion=npob+poblacion\n",
        "    #Cogemos los maxSoluciones mejores de la mezcla de ambos\n",
        "    poblacion.sort(key=lambda x: [x[1],x[2]],reverse=True)\n",
        "    \n",
        "    #Calculamos el fitness de los diez mejores individuos de la poblacion\n",
        "    averagefitness=0\n",
        "    for x in poblacion[0:10]:\n",
        "      averagefitness+=x[1]\n",
        "    fitness_per_it.append(averagefitness/10)\n",
        "    #Si lleva 30 iteraciones sin mejorar se detiene\n",
        "    if len(fitness_per_it)>30 and fitness_per_it[it]==fitness_per_it[it-30]:\n",
        "      break\n",
        "\n",
        "    it+=1\n",
        "\n",
        "  tfi=time.time()\n",
        "  tiempo=tfi-tini\n",
        "\n",
        "  poblacion.sort(key=lambda x: [x[1],x[2]],reverse=True)\n",
        "  poblacion=poblacion[0:10]\n",
        "\n",
        "  fig, ax = plt.subplots()\n",
        "  ax.plot(range(len(fitness_per_it)),fitness_per_it )  \n",
        "  ejey= \"Average Fitness en \" + str(it) + ' iteraciones'\n",
        "  ax.set_ylabel(ejey)\n",
        "  ax.set_xlabel(\"Numero de Generaciones\")\n",
        "  plt.show()\n",
        "\n",
        "  return poblacion, tiempo, it\n",
        "\n",
        "def main():\n",
        "  \n",
        "  totalfrequencies=0\n",
        "  totaltiempo = 0\n",
        "  \n",
        "  #VARIABLES A CAMBIAR\n",
        "\n",
        "  its=1\n",
        "  longitudSecuencia=7\n",
        "\n",
        "  for i in range(its):\n",
        "    poblacion, tiempo, it = proceso(longitudSecuencia)\n",
        "    entropy, frequencies = mediaElementos(poblacion)\n",
        "    print(\"It :\",i)\n",
        "    print(\"Iteraciones Usadas: \", it)\n",
        "    print(\"10 Mejores Secuencias: \", poblacion)\n",
        "    print(\"Frecuencia Maxima : \",poblacion[0][1])\n",
        "    print(\"Frecuencia Media : \", frequencies)\n",
        "    print(\"Frecuencia Minima : \",poblacion[9][1])\n",
        "    print(\"Numero de Eventos Distintos: \",entropy)\n",
        "    print(\"Tiempo Empleado: \",tiempo)\n",
        "    print(\"\")\n",
        "    print(\"--------------------------------------------------------------------\")\n",
        "    print(\"\")\n",
        "    totalfrequencies+=frequencies\n",
        "    totaltiempo+=tiempo\n",
        "  print(\"Frecuencia Media en \",its, \" iteraciones: \", totalfrequencies/its)\n",
        "  print(\"Tiempo Medio en \",its, \" iteraciones: \", totaltiempo/its)\n",
        "    \n",
        "\n",
        "if __name__ == \"__main__\":\n",
        "    main()"
      ],
      "metadata": {
        "colab": {
          "base_uri": "https://localhost:8080/",
          "height": 469
        },
        "id": "eZ9KMdzkFgUb",
        "outputId": "fabe833f-c584-4c73-9841-8915d31b9078"
      },
      "execution_count": null,
      "outputs": [
        {
          "output_type": "display_data",
          "data": {
            "text/plain": [
              "<Figure size 432x288 with 1 Axes>"
            ],
            "image/png": "[encoded data removed]"
          },
          "metadata": {
            "needs_background": "light"
          }
        },
        {
          "output_type": "stream",
          "name": "stdout",
          "text": [
            "It : 0\n",
            "Iteraciones Usadas:  44\n",
            "10 Mejores Secuencias:  [('CCCCCCL', 99, 2), ('CFCCCCC', 99, 2), ('CCCCCFC', 99, 2), ('ACCCCCC', 99, 2), ('FCCCCCC', 99, 2), ('CCCCCCC', 99, 1), ('FCCCCCL', 98, 3), ('ACCCCFC', 98, 3), ('ACCCCCF', 98, 3), ('ACCCCCL', 98, 3)]\n",
            "Frecuencia Maxima :  99\n",
            "Frecuencia Media :  98.6\n",
            "Frecuencia Minima :  98\n",
            "Numero de Eventos Distintos:  2.3\n",
            "Tiempo Empleado:  2.171379327774048\n",
            "\n",
            "--------------------------------------------------------------------\n",
            "\n",
            "Frecuencia Media en  1  iteraciones:  98.6\n",
            "Tiempo Medio en  1  iteraciones:  2.171379327774048\n"
          ]
        }
      ]
    },
    {
      "cell_type": "markdown",
      "source": [
        "#Resultados"
      ],
      "metadata": {
        "id": "GzbqccOk77Yr"
      }
    },
    {
      "cell_type": "markdown",
      "source": [
        "###Datos con secuencia de 7\n",
        "> 10 Mejores Secuencias:  [('CCCCCFC', 99, 2), ('FCCCCCC', 99, 2), ('CCCCCCL', 99, 2), ('ACCCCCC', 99, 2), ('CFCCCCC', 99, 2), ('CCCCCCC', 99, 1), ('ACCCCCL', 98, 3), ('CCCCCFL', 98, 3), ('CFCCCCL', 98, 3), ('ACCCCCF', 98, 3)] \\\\\n",
        "Frecuencia Maxima :  99 \\\\\n",
        "Frecuencia Media :  98.6 \\\\\n",
        "Frecuencia Minima :  98 \\\\\n",
        "Tiempo Empleado:  2.37 \\\\\n",
        "Media de eventos:  2.3 \\\\"
      ],
      "metadata": {
        "id": "bPJjv4MT6gX3"
      }
    },
    {
      "cell_type": "markdown",
      "source": [
        "###Datos con secuencia de 10\n",
        "\n",
        "> 10 Mejores Secuencias:  [('FCCCCCCCCC', 99, 2), ('CFCCCCCCCC', 99, 2), ('CCCCCCCCCC', 99, 1), ('ACFCCCCCCC', 98, 3), ('AFCCCCCCCC', 98, 3), ('FCCCCCCCCL', 98, 3), ('CFCCCCCCCL', 98, 3), ('CCCCCCCCCL', 98, 2), ('CCCCCFCCCC', 98, 2), ('ACCCCCCCCC', 98, 2)] \\\\\n",
        "Frecuencia Maxima :  99 \\\\\n",
        "Frecuencia Media :  98.3 \\\\\n",
        "Frecuencia Minima :  98 \\\\\n",
        "Tiempo Empleado:  5.22 \\\\\n",
        "Media de eventos:  2.3 \\\\\n",
        "\n"
      ],
      "metadata": {
        "id": "PINJ_IXn6gRu"
      }
    },
    {
      "cell_type": "markdown",
      "source": [
        "###Datos con secuencia de 15\n",
        "\n",
        "> 10 Mejores Secuencias:  [('CCCCFCCCCCCCCCC', 98, 2), ('CCCFCCCCCCCCCCC', 98, 2), ('CCCCCCFCCCCCCCC', 98, 2), ('CCFCCCCCCCCCCCC', 98, 2), ('CCCCCCCFCCCCCCC', 98, 2), ('CCCCCCCCCCCCCCC', 98, 1), ('CCCFCCCCCCCCCCL', 97, 3), ('ACCCCCFCCCCCCCC', 97, 3), ('CCCCFCCCCCCCCCL', 97, 3), ('ACCCCCCCFCCCCCC', 97, 3)] \\\\\n",
        "Frecuencia Maxima :  98 \\\\\n",
        "Frecuencia Media :  97.6 \\\\\n",
        "Frecuencia Minima :  97 \\\\\n",
        "Tiempo Empleado:  13.79124412536621 \\\\\n",
        "Media de eventos:  2.3 \\\\\n",
        "\n",
        "\n"
      ],
      "metadata": {
        "id": "O0WnVWCh6fgo"
      }
    },
    {
      "cell_type": "markdown",
      "source": [
        "#Codigo No Utilizado"
      ],
      "metadata": {
        "id": "64FyhsoWnbEr"
      }
    },
    {
      "cell_type": "code",
      "source": [
        " #Version con multiprocesos, en colab es incluso mas lento porque solo tiene un core\n",
        "\n",
        "from multiprocessing import Pool\n",
        "from multiprocessing import Manager\n",
        "from multiprocessing import Process\n",
        "\n",
        "def solucion_aleatoria_valida(process,longitud,dataset,return_dict,run):\n",
        "  min_frecuencia=1\n",
        "  \n",
        "  while run.is_set():\n",
        "      sol=generador(21,longitud)\n",
        "\n",
        "      frecuencia=evaluarSolucion(sol,dataset)\n",
        "      if frecuencia>=min_frecuencia:\n",
        "        return_dict[process] = [sol,frecuencia]\n",
        "        run.clear()\n",
        "      \n",
        "\n",
        "def solucion_inicial(longitud, dataset, maxPoblacion):\n",
        "\n",
        "\n",
        "  \n",
        "  processes = []\n",
        "  manager = Manager()\n",
        "  return_code = manager.dict()\n",
        "  run = manager.Event()\n",
        "  run.set()  # We should keep running.\n",
        "  for i in range(4):\n",
        "    process = Process(\n",
        "      target=solucion_aleatoria_valida, args=(f\"computer_{i}\", longitud, dataset, return_code, run)\n",
        "    )\n",
        "    processes.append(process)\n",
        "    process.start()\n",
        "\n",
        "  for process in processes:\n",
        "    process.join()\n",
        "\n",
        "  poblacion = return_code.values()\n",
        "\n",
        "\n",
        "    objective=poblacion[9][1]\n",
        "    cont=0\n",
        "    start=[False,0]\n",
        "    end=0\n",
        "    for x in poblacion:\n",
        "      if x[1]==objective and start[0]==False:\n",
        "        start=[True,cont]\n",
        "      elif x[1]!=objective and start[0]:\n",
        "        end=cont\n",
        "        break;\n",
        "      cont+=1\n",
        "\n",
        "    aux=sorted(poblacion[start[1]:end],key=entropy,reverse=True)\n",
        "\n",
        "    poblacion[start[1]:end]=aux\n"
      ],
      "metadata": {
        "id": "EE0BZn5undjb"
      },
      "execution_count": null,
      "outputs": []
    }
  ],
  "metadata": {
    "colab": {
      "provenance": []
    },
    "kernelspec": {
      "display_name": "Python 3",
      "name": "python3"
    },
    "language_info": {
      "name": "python"
    }
  },
  "nbformat": 4,
  "nbformat_minor": 0
}